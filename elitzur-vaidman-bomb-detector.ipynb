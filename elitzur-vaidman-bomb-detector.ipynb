{
 "cells": [
  {
   "cell_type": "markdown",
   "id": "7eedf1bc-4e8a-48ee-9b8c-71e47adadc92",
   "metadata": {},
   "source": [
    "# The Elitzur-Vaidman bomb experiment\n",
    "\n",
    "Your task is to improve the bomb-detecting strategy in this notebook to satisfy the following guarantee: given an error parameter $\\varepsilon$, output an experiment that detects a bomb without triggering it with probability $1 - \\varepsilon$."
   ]
  },
  {
   "cell_type": "code",
   "execution_count": null,
   "id": "b81e51c3",
   "metadata": {},
   "outputs": [],
   "source": [
    "import os\n",
    "qiskit_key = os.getenv('QISKIT_KEY')\n",
    "\n",
    "from qiskit_ibm_runtime import QiskitRuntimeService\n",
    "service = QiskitRuntimeService()\n",
    "\n",
    "backend = service.get_backend('ibmq_qasm_simulator')\n",
    "backend.configuration"
   ]
  },
  {
   "cell_type": "code",
   "execution_count": 4,
   "id": "29f512e6-4ec4-42d1-8e23-2a4f48b46d97",
   "metadata": {},
   "outputs": [],
   "source": [
    "import numpy as np\n",
    "\n",
    "# Importing standard Qiskit libraries\n",
    "from qiskit import QuantumCircuit, ClassicalRegister, QuantumRegister, transpile\n",
    "# from qiskit import QasmSimulator\n",
    "\n",
    "# from qiskit_ibm_provider.IBMProvider\n",
    "\n",
    "\n",
    "from qiskit.visualization import *\n",
    "from qiskit.visualization import circuit_drawer\n",
    "# from ibm_quantum_widgets import *\n",
    "# from qiskit.providers.aer import QasmSimulator\n",
    "from math import pi\n",
    "# from ibm_quantum_widgets import draw_circuit\n",
    "\n",
    "# Loading your IBM Quantum account(s)"
   ]
  },
  {
   "cell_type": "code",
   "execution_count": 5,
   "id": "3cdf40bf",
   "metadata": {},
   "outputs": [
    {
     "data": {
      "text/plain": [
       "'1.0.1'"
      ]
     },
     "execution_count": 5,
     "metadata": {},
     "output_type": "execute_result"
    }
   ],
   "source": [
    "import qiskit\n",
    "qiskit.__version__\n",
    "\n"
   ]
  },
  {
   "cell_type": "code",
   "execution_count": 2,
   "id": "c4d1d814",
   "metadata": {},
   "outputs": [],
   "source": [
    "import warnings\n"
   ]
  },
  {
   "cell_type": "code",
   "execution_count": null,
   "id": "42a7e786",
   "metadata": {},
   "outputs": [],
   "source": [
    "\n",
    "import os\n",
    "qiskit_key = os.getenv('QISKIT_KEY')\n",
    "\n",
    "from qiskit_ibm_runtime import QiskitRuntimeService\n",
    "service = QiskitRuntimeService()\n",
    "\n",
    "backend = service.get_backend('ibmq_qasm_simulator')\n",
    "backend.configuration"
   ]
  },
  {
   "cell_type": "code",
   "execution_count": 3,
   "id": "d8af799e",
   "metadata": {},
   "outputs": [
    {
     "data": {
      "text/plain": [
       "<bound method IBMBackend.configuration of <IBMBackend('ibmq_qasm_simulator')>>"
      ]
     },
     "execution_count": 3,
     "metadata": {},
     "output_type": "execute_result"
    }
   ],
   "source": [
    "\n",
    "# Save an IBM Quantum account and set it as your default account.\n",
    "# QiskitRuntimeService.save_account(channel=\"ibm_quantum\", token=qiskit_key, set_as_default=True, overwrite=True)\n",
    "\n",
    "service = QiskitRuntimeService()\n",
    "\n",
    "backend = service.get_backend('ibmq_qasm_simulator')\n",
    "backend.configuration"
   ]
  },
  {
   "cell_type": "code",
   "execution_count": 7,
   "id": "09aaebe4",
   "metadata": {},
   "outputs": [
    {
     "data": {
      "text/plain": [
       "[<FakeAlmaden('fake_almaden')>,\n",
       " <FakeArmonk('fake_armonk')>,\n",
       " <FakeAthens('fake_athens')>,\n",
       " <FakeBelem('fake_belem')>,\n",
       " <FakeBoeblingen('fake_boeblingen')>,\n",
       " <FakeBogota('fake_bogota')>,\n",
       " <FakeBrooklyn('fake_brooklyn')>,\n",
       " <FakeBurlington('fake_burlington')>,\n",
       " <FakeCairo('fake_cairo')>,\n",
       " <FakeCambridge('fake_cambridge')>,\n",
       " <FakeCambridgeAlternativeBasis('fake_cambridge')>,\n",
       " <FakeCasablanca('fake_casablanca')>,\n",
       " <FakeEssex('fake_essex')>,\n",
       " <FakeGuadalupe('fake_guadalupe')>,\n",
       " <FakeHanoi('fake_hanoi')>,\n",
       " <FakeJakarta('fake_jakarta')>,\n",
       " <FakeJohannesburg('fake_johannesburg')>,\n",
       " <FakeKolkata('fake_kolkata')>,\n",
       " <FakeLagos('fake_lagos')>,\n",
       " <FakeLima('fake_lima')>,\n",
       " <FakeLondon('fake_london')>,\n",
       " <FakeManila('fake_manila')>,\n",
       " <FakeManhattan('fake_manhattan')>,\n",
       " <FakeMelbourne('fake_melbourne')>,\n",
       " <FakeMontreal('fake_montreal')>,\n",
       " <FakeMumbai('fake_mumbai')>,\n",
       " <FakeNairobi('fake_nairobi')>,\n",
       " <FakeOurense('fake_ourense')>,\n",
       " <FakeParis('fake_paris')>,\n",
       " <FakePoughkeepsie('fake_poughkeepsie')>,\n",
       " <FakeQuito('fake_quito')>,\n",
       " <FakeRochester('fake_rochester')>,\n",
       " <FakeRome('fake_rome')>,\n",
       " <FakeRueschlikon('fake_rueschlikon')>,\n",
       " <FakeSantiago('fake_santiago')>,\n",
       " <FakeSingapore('fake_singapore')>,\n",
       " <FakeSydney('fake_sydney')>,\n",
       " <FakeTenerife('fake_tenerife')>,\n",
       " <FakeTokyo('fake_tokyo')>,\n",
       " <FakeToronto('fake_toronto')>,\n",
       " <FakeValencia('fake_valencia')>,\n",
       " <FakeVigo('fake_vigo')>,\n",
       " <FakeWashington('fake_washington')>,\n",
       " <FakeYorktown('fake_yorktown')>]"
      ]
     },
     "execution_count": 7,
     "metadata": {},
     "output_type": "execute_result"
    }
   ],
   "source": [
    "from qiskit_ibm_runtime.fake_provider import FakeProvider\n",
    "backend = FakeProvider().get_backend(\"fake_ourense\")\n",
    "FakeProvider().backends()"
   ]
  },
  {
   "cell_type": "code",
   "execution_count": 27,
   "id": "ca4fda01",
   "metadata": {},
   "outputs": [],
   "source": [
    "# from qiskit.providers.fake_provider import FakeProvider\n",
    "# from qiskit.providers.fake_provider import FakeProvider\n",
    "backend = FakeProvider().get_backend(\"fake_ourense\")\n",
    "\n"
   ]
  },
  {
   "cell_type": "code",
   "execution_count": 11,
   "id": "32d46049",
   "metadata": {},
   "outputs": [],
   "source": [
    "import numpy as np\n",
    "import math\n",
    "\n",
    "# Importing core Qiskit libraries\n",
    "from qiskit import QuantumCircuit, ClassicalRegister, QuantumRegister, transpile\n",
    "\n",
    "\n",
    "# Importing visualization tools\n",
    "from qiskit.visualization import plot_histogram, circuit_drawer\n",
    "# from qiskit.providers\n",
    "# Importing the Aer QasmSimulator directly from qiskit.providers.aer\n",
    "# from qiskit.providers.aer import QasmSimulator\n",
    "\n",
    "# Importing IBM Quantum provider\n",
    "# from qiskit_ibm_provider import IBMProvider\n",
    "\n",
    "\n",
    "# IBM Quantum Widgets - This specific import may need to be updated or removed depending on the latest package updates.\n",
    "# It's best to check the latest documentation for IBM Quantum Widgets or equivalent tools.\n",
    "\n",
    "# Loading your IBM Quantum account(s)\n",
    "# provider = IBMQ.load_account()\n",
    "# backend = Aer.get_backend('qasm_simulator')\n",
    "# backend = FakeQasmBackend()\n"
   ]
  },
  {
   "cell_type": "code",
   "execution_count": 12,
   "id": "8a3a3d24-faa2-4353-a8db-80313f58ae3b",
   "metadata": {},
   "outputs": [
    {
     "data": {
      "text/plain": [
       "(Instruction(name='No bomb', num_qubits=1, num_clbits=1, params=[]),\n",
       " Instruction(name='Bomb', num_qubits=1, num_clbits=1, params=[]))"
      ]
     },
     "execution_count": 12,
     "metadata": {},
     "output_type": "execute_result"
    }
   ],
   "source": [
    "b = QuantumCircuit(1, 1, name='Bomb')\n",
    "b.measure(0, 0)\n",
    "bomb = b.to_instruction()\n",
    "\n",
    "nb = QuantumCircuit(1, 1, name='No bomb')\n",
    "nb.id(0)\n",
    "no_bomb = nb.to_instruction()\n",
    "no_bomb, bomb"
   ]
  },
  {
   "cell_type": "code",
   "execution_count": 14,
   "id": "99c87fb8-a516-453f-a7a1-708b9e64c68b",
   "metadata": {},
   "outputs": [],
   "source": [
    "\n",
    "def elitzur_vaidman(black_box, eps):\n",
    "    # --------- #\n",
    "    ### EDIT HERE ###\n",
    "    #calculate rotation theta\n",
    "    rotation_theta = 2 * np.arccos(np.sqrt(1 - eps))\n",
    "\n",
    "    circuit = QuantumCircuit(1, 2)\n",
    "\n",
    "    # apply ry gate\n",
    "    circuit.ry(rotation_theta, 0)\n",
    "\n",
    "    circuit.h(0)\n",
    "    circuit.append(black_box, qargs=[0], cargs=[0])\n",
    "    circuit.h(0)\n",
    "\n",
    "\n",
    "    circuit.measure(0, 1)\n",
    "    # --------- #\n",
    "    # circuit.cx(0, 1)\n",
    "\n",
    "    job = backend.run(transpile(circuit, backend), shots=1024)\n",
    "    results = {'Bomb': 0, 'BOOM!': 0, 'No bomb': 0}\n",
    "    for outcome, frequency in job.result().get_counts().items():\n",
    "        if '1' in outcome[1:]:\n",
    "            results['BOOM!'] += frequency\n",
    "        # --------- #\n",
    "        ### EDIT HERE ###\n",
    "\n",
    "        elif outcome[0] == '0':\n",
    "\n",
    "        # --------- #\n",
    "            results['No bomb'] += frequency\n",
    "        else:\n",
    "            results['Bomb'] += frequency\n",
    "    print(results)\n",
    "    return circuit, results"
   ]
  },
  {
   "cell_type": "code",
   "execution_count": 16,
   "id": "e832b780",
   "metadata": {},
   "outputs": [],
   "source": [
    "def elitzur_vaidman(black_box, eps):\n",
    "\n",
    "    N_rotations = int(np.pi / (2 * eps))  # Calculate the number of rotations\n",
    "    theta =  np.pi / N_rotations\n",
    "\n",
    "    circuit = QuantumCircuit(1, 2)\n",
    "\n",
    "    for i in range(N_rotations):\n",
    "        circuit.ry(theta, 0)\n",
    "        if black_box.name == 'Bomb':\n",
    "            circuit.measure(0, 0)\n",
    "        circuit.append(black_box, qargs=[0], cargs=[0])\n",
    "\n",
    "    # final measurement\n",
    "    circuit.measure(0, 1)\n",
    "\n",
    "    # Execute the circuit\n",
    "    job = backend.run(transpile(circuit, backend), shots=1024)\n",
    "    results = {'Bomb': 0, 'BOOM!': 0, 'No bomb': 0}\n",
    "    for outcome, frequency in job.result().get_counts().items():\n",
    "        print(outcome, frequency)\n",
    "        if '1' in outcome[1:]:\n",
    "            results['BOOM!'] += frequency\n",
    "        # --------- #\n",
    "        ### EDIT HERE ###\n",
    "        elif outcome[0] != '0':\n",
    "        # --------- #\n",
    "            results['No bomb'] += frequency\n",
    "        else:\n",
    "            results['Bomb'] += frequency\n",
    "    print(results)\n",
    "    return circuit, results"
   ]
  },
  {
   "cell_type": "code",
   "execution_count": 22,
   "id": "44ee13bc",
   "metadata": {},
   "outputs": [
    {
     "name": "stderr",
     "output_type": "stream",
     "text": [
      "/Users/darien/miniforge3/envs/QuantumEnv/lib/python3.12/site-packages/qiskit_ibm_runtime/fake_provider/fake_backend.py:570: RuntimeWarning: Aer not found using BasicAer and no noise\n",
      "  warnings.warn(\"Aer not found using BasicAer and no noise\", RuntimeWarning)\n"
     ]
    },
    {
     "name": "stdout",
     "output_type": "stream",
     "text": [
      "10 1024\n",
      "{'Bomb': 0, 'BOOM!': 0, 'No bomb': 1024}\n",
      "theta: 0.785, 0.785,\n",
      "N: 4.0, 229.2\n",
      "expected Pr: 0.500\n",
      "10 1024\n",
      "{'Bomb': 0, 'BOOM!': 0, 'No bomb': 1024}\n",
      "theta: 0.032, 0.032,\n",
      "N: 99.3, 5691.2\n",
      "expected Pr: 0.999\n"
     ]
    },
    {
     "data": {
      "image/png": "[encoded data removed]",
      "text/plain": [
       "<Figure size 640x480 with 1 Axes>"
      ]
     },
     "metadata": {},
     "output_type": "display_data"
    },
    {
     "data": {
      "text/plain": [
       "Bomb          0\n",
       "BOOM!         0\n",
       "No bomb    2048\n",
       "dtype: int64"
      ]
     },
     "metadata": {},
     "output_type": "display_data"
    }
   ],
   "source": [
    "from matplotlib import pyplot as plt\n",
    "import pandas as pd\n",
    "\n",
    "\n",
    "results_con = []\n",
    "for eps in [0.5, 0.001]:\n",
    "    theta =    np.arccos(np.sqrt(1 - eps))\n",
    "    N = np.pi / ( np.arccos(np.sqrt(1 - eps)))\n",
    "    # theta2 = np.pi/ (2*N)\n",
    "    theta2 = np.arccos(np.sqrt(1 - eps))\n",
    "\n",
    "    out_circuit, results = elitzur_vaidman(no_bomb, eps)\n",
    "    results_con.append(results)\n",
    "\n",
    "    print(f'theta: {theta:.3f}, {theta2:.3f},\\nN: {N:.1f}, {degrees(N):.1f}')\n",
    "    try:\n",
    "        print(f'expected Pr: {1-eps:.3f}')\n",
    "        observed_pr = results['No bomb']/((results['BOOM!'] + results['Bomb']))\n",
    "        print(f'observed B!: {1 - observed_pr:.3f}')\n",
    "        observed_pr = results['No bomb']/((results['No bomb'] + results['Bomb']))\n",
    "        print(f'observed Pr: {1 - observed_pr:.3f}\\n')\n",
    "    except:\n",
    "        pass\n",
    "\n",
    "results_df = pd.DataFrame(results_con).sum()\n",
    "results_df.plot.bar()\n",
    "plt.show()\n",
    "display(results_df)\n",
    "\n",
    "# display(out_circuit.draw())"
   ]
  },
  {
   "cell_type": "code",
   "execution_count": 24,
   "id": "cc47429a-e1f4-4c20-8345-cfd1af3c9a93",
   "metadata": {},
   "outputs": [
    {
     "name": "stdout",
     "output_type": "stream",
     "text": [
      "{'Bomb': 510, 'BOOM!': 0, 'No bomb': 514}\n",
      "{'Bomb': 106, 'BOOM!': 0, 'No bomb': 918}\n",
      "{'Bomb': 9, 'BOOM!': 0, 'No bomb': 1015}\n",
      "{'Bomb': 1, 'BOOM!': 0, 'No bomb': 1023}\n"
     ]
    }
   ],
   "source": [
    "for eps in [0.5, 0.1, 0.01, 0.001]:\n",
    "    results = elitzur_vaidman(no_bomb, eps)"
   ]
  },
  {
   "cell_type": "code",
   "execution_count": 41,
   "id": "8a0c4991-f08c-4ead-a68b-5975b4681acd",
   "metadata": {},
   "outputs": [
    {
     "name": "stdout",
     "output_type": "stream",
     "text": [
      "{'Bomb': 557, 'BOOM!': 0, 'No bomb': 467}\n",
      "{'Bomb': 505, 'BOOM!': 0, 'No bomb': 519}\n",
      "{'Bomb': 486, 'BOOM!': 0, 'No bomb': 538}\n",
      "{'Bomb': 499, 'BOOM!': 0, 'No bomb': 525}\n"
     ]
    }
   ],
   "source": [
    "for eps in [0.5, 0.1, 0.01, 0.001]:\n",
    "    elitzur_vaidman(bomb, eps)"
   ]
  },
  {
   "cell_type": "code",
   "execution_count": 37,
   "id": "59c75fe9-f54f-4ffa-a203-eb9cf593721b",
   "metadata": {},
   "outputs": [
    {
     "name": "stdout",
     "output_type": "stream",
     "text": [
      "Bomb Circuit:\n"
     ]
    },
    {
     "data": {
      "image/png": "[encoded data removed]",
      "text/plain": [
       "<Figure size 452.113x284.278 with 1 Axes>"
      ]
     },
     "metadata": {},
     "output_type": "display_data"
    },
    {
     "name": "stdout",
     "output_type": "stream",
     "text": [
      "\n",
      "No Bomb Circuit:\n"
     ]
    },
    {
     "data": {
      "image/png": "[encoded data removed]",
      "text/plain": [
       "<Figure size 535.724x284.278 with 1 Axes>"
      ]
     },
     "metadata": {},
     "output_type": "display_data"
    }
   ],
   "source": [
    "# Feel free to include graphs/plots/visualisations here; but only the section in the elitzur_vaidman function will be marked.\n",
    "\n",
    "# Define a function to create and display a quantum circuit\n",
    "def display_circuit(black_box):\n",
    "    rotation_theta = 2 * np.arccos(np.sqrt(1 - eps))\n",
    "\n",
    "\n",
    "    # apply ry gate\n",
    "    circuit = QuantumCircuit(1, 2)\n",
    "\n",
    "    circuit.ry(rotation_theta, 0)\n",
    "\n",
    "    # circuit.h(0)\n",
    "    circuit.append(black_box, qargs=[0], cargs=[0])\n",
    "    circuit.h(0)\n",
    "    circuit.measure(0, 1)\n",
    "    return circuit\n",
    "\n",
    "# Display the circuit for both 'Bomb' and 'No bomb' cases\n",
    "bomb_circuit = display_circuit(bomb)\n",
    "no_bomb_circuit = display_circuit(no_bomb)\n",
    "\n",
    "print(\"Bomb Circuit:\")\n",
    "display(bomb_circuit.draw('mpl'))\n",
    "\n",
    "print(\"\\nNo Bomb Circuit:\")\n",
    "display(no_bomb_circuit.draw('mpl'))\n",
    "\n"
   ]
  },
  {
   "cell_type": "code",
   "execution_count": 26,
   "id": "72acdcad",
   "metadata": {},
   "outputs": [
    {
     "data": {
      "image/png": "[encoded data removed]",
      "text/plain": [
       "<Figure size 436.286x200.667 with 1 Axes>"
      ]
     },
     "metadata": {},
     "output_type": "display_data"
    }
   ],
   "source": [
    "bb = bomb\n",
    "\n",
    "theta = 2 * np.arccos(np.sqrt(1 - eps))\n",
    "shots = 1024  # Number of experimental trials\n",
    "\n",
    "# Initialize a Quantum Circuit with 1 qubit and 1 classical bit\n",
    "circuit = QuantumCircuit(1, 1)\n",
    "\n",
    "# Apply the ry gate for the calculated theta to prepare the qubit\n",
    "circuit.ry(theta, 0)\n",
    "\n",
    "# If the black_box involves a measurement, make sure to append it correctly\n",
    "circuit.append(bb, qargs=[0], cargs=[0])\n",
    "\n",
    "# Apply a Hadamard gate after interacting with the black_box.\n",
    "circuit.h(0)\n",
    "\n",
    "# Final measurement of the qubit state to determine the outcome.\n",
    "circuit.measure(0, 0)\n",
    "\n",
    "display(circuit.draw('mpl'))\n"
   ]
  }
 ],
 "metadata": {
  "kernelspec": {
   "display_name": "Python 3 (ipykernel)",
   "language": "python",
   "name": "python3"
  },
  "language_info": {
   "codemirror_mode": {
    "name": "ipython",
    "version": 3
   },
   "file_extension": ".py",
   "mimetype": "text/x-python",
   "name": "python",
   "nbconvert_exporter": "python",
   "pygments_lexer": "ipython3",
   "version": "3.12.2"
  },
  "widgets": {
   "application/vnd.jupyter.widget-state+json": {
    "state": {
     "0185fa1613484cabbe2cf09e6b7ee7e2": {
      "model_module": "@jupyter-widgets/base",
      "model_module_version": "1.2.0",
      "model_name": "LayoutModel",
      "state": {
       "margin": "0px 0px 0px 37px",
       "width": "600px"
      }
     },
     "04467408b088493bbe07fc34b9b374bc": {
      "model_module": "@jupyter-widgets/controls",
      "model_module_version": "1.5.0",
      "model_name": "ButtonModel",
      "state": {
       "button_style": "primary",
       "description": "Clear",
       "layout": "IPY_MODEL_e80c5d951e9e4a7c8aa9770f312b01ca",
       "style": "IPY_MODEL_971c5f5cb6284671921718e0ee33f014"
      }
     },
     "136c03e7fb2e491aa17778a468a8ae25": {
      "model_module": "@jupyter-widgets/controls",
      "model_module_version": "1.5.0",
      "model_name": "HBoxModel",
      "state": {
       "children": [
        "IPY_MODEL_301d4042ee6b44e09a702820687499f2",
        "IPY_MODEL_58557fb2e5204f6888f994cc9042ec74",
        "IPY_MODEL_ca1497b6114d4717bab240def8b46b50",
        "IPY_MODEL_66bfcb4cc3c545418b823fdf259132c8",
        "IPY_MODEL_370562eae4e342388943722564ef8aad"
       ],
       "layout": "IPY_MODEL_0185fa1613484cabbe2cf09e6b7ee7e2"
      }
     },
     "1913599323af439caf74e3470f67cc67": {
      "model_module": "@jupyter-widgets/controls",
      "model_module_version": "1.5.0",
      "model_name": "HTMLModel",
      "state": {
       "layout": "IPY_MODEL_34d8f5510ba04cbabe693d72d03c9c8f",
       "style": "IPY_MODEL_81315be8df6c45439e835c9bf73dd3c6",
       "value": "<p style='font-family: IBM Plex Sans, Arial, Helvetica, sans-serif; font-size: 20px; font-weight: medium;'>Circuit Properties</p>"
      }
     },
     "1956441fc5a141519e6d916f12cd5c53": {
      "model_module": "@jupyter-widgets/base",
      "model_module_version": "1.2.0",
      "model_name": "LayoutModel",
      "state": {
       "width": "145px"
      }
     },
     "27c6f14a1c22439c90a3ac2f820535a7": {
      "model_module": "@jupyter-widgets/controls",
      "model_module_version": "1.5.0",
      "model_name": "DescriptionStyleModel",
      "state": {
       "description_width": ""
      }
     },
     "301d4042ee6b44e09a702820687499f2": {
      "model_module": "@jupyter-widgets/controls",
      "model_module_version": "1.5.0",
      "model_name": "HTMLModel",
      "state": {
       "layout": "IPY_MODEL_f1d93ffbf738421091b74ddd7caa870c",
       "style": "IPY_MODEL_a785c5a2c37c49a6869c48e5f863d5fa",
       "value": "<h5>Job ID</h5>"
      }
     },
     "34d8f5510ba04cbabe693d72d03c9c8f": {
      "model_module": "@jupyter-widgets/base",
      "model_module_version": "1.2.0",
      "model_name": "LayoutModel",
      "state": {
       "margin": "0px 0px 10px 0px"
      }
     },
     "370562eae4e342388943722564ef8aad": {
      "model_module": "@jupyter-widgets/controls",
      "model_module_version": "1.5.0",
      "model_name": "HTMLModel",
      "state": {
       "layout": "IPY_MODEL_d2ef788d1e7e4093bafafc0d52dcb3ea",
       "style": "IPY_MODEL_73c3cab8037f44c681a0c2f6cff67c16",
       "value": "<h5>Message</h5>"
      }
     },
     "553949fd387c46eb8ce349f67703e5b0": {
      "model_module": "@jupyter-widgets/base",
      "model_module_version": "1.2.0",
      "model_name": "LayoutModel",
      "state": {
       "width": "70px"
      }
     },
     "58557fb2e5204f6888f994cc9042ec74": {
      "model_module": "@jupyter-widgets/controls",
      "model_module_version": "1.5.0",
      "model_name": "HTMLModel",
      "state": {
       "layout": "IPY_MODEL_1956441fc5a141519e6d916f12cd5c53",
       "style": "IPY_MODEL_27c6f14a1c22439c90a3ac2f820535a7",
       "value": "<h5>Backend</h5>"
      }
     },
     "61befcffa2654f5e881595d20b014fec": {
      "model_module": "@jupyter-widgets/controls",
      "model_module_version": "1.5.0",
      "model_name": "DescriptionStyleModel",
      "state": {
       "description_width": ""
      }
     },
     "66bfcb4cc3c545418b823fdf259132c8": {
      "model_module": "@jupyter-widgets/controls",
      "model_module_version": "1.5.0",
      "model_name": "HTMLModel",
      "state": {
       "layout": "IPY_MODEL_553949fd387c46eb8ce349f67703e5b0",
       "style": "IPY_MODEL_df958c906a3745ef865adf6f572c10a2",
       "value": "<h5>Queue</h5>"
      }
     },
     "73c3cab8037f44c681a0c2f6cff67c16": {
      "model_module": "@jupyter-widgets/controls",
      "model_module_version": "1.5.0",
      "model_name": "DescriptionStyleModel",
      "state": {
       "description_width": ""
      }
     },
     "81315be8df6c45439e835c9bf73dd3c6": {
      "model_module": "@jupyter-widgets/controls",
      "model_module_version": "1.5.0",
      "model_name": "DescriptionStyleModel",
      "state": {
       "description_width": ""
      }
     },
     "971c5f5cb6284671921718e0ee33f014": {
      "model_module": "@jupyter-widgets/controls",
      "model_module_version": "1.5.0",
      "model_name": "ButtonStyleModel",
      "state": {}
     },
     "9c954d59a5c14e638d7cf73fd1b3e508": {
      "model_module": "@jupyter-widgets/controls",
      "model_module_version": "1.5.0",
      "model_name": "GridBoxModel",
      "state": {
       "children": [
        "IPY_MODEL_04467408b088493bbe07fc34b9b374bc"
       ],
       "layout": "IPY_MODEL_c4d76bc624434231a107edfdcfe4bd50"
      }
     },
     "a785c5a2c37c49a6869c48e5f863d5fa": {
      "model_module": "@jupyter-widgets/controls",
      "model_module_version": "1.5.0",
      "model_name": "DescriptionStyleModel",
      "state": {
       "description_width": ""
      }
     },
     "c45f450d5e584537b2893a8fc0b68ee0": {
      "model_module": "@jupyter-widgets/base",
      "model_module_version": "1.2.0",
      "model_name": "LayoutModel",
      "state": {
       "width": "95px"
      }
     },
     "c4d76bc624434231a107edfdcfe4bd50": {
      "model_module": "@jupyter-widgets/base",
      "model_module_version": "1.2.0",
      "model_name": "LayoutModel",
      "state": {
       "grid_template_areas": "\n                                       \". . . . right \"\n                                        ",
       "grid_template_columns": "20% 20% 20% 20% 20%",
       "width": "100%"
      }
     },
     "ca1497b6114d4717bab240def8b46b50": {
      "model_module": "@jupyter-widgets/controls",
      "model_module_version": "1.5.0",
      "model_name": "HTMLModel",
      "state": {
       "layout": "IPY_MODEL_c45f450d5e584537b2893a8fc0b68ee0",
       "style": "IPY_MODEL_61befcffa2654f5e881595d20b014fec",
       "value": "<h5>Status</h5>"
      }
     },
     "d2ef788d1e7e4093bafafc0d52dcb3ea": {
      "model_module": "@jupyter-widgets/base",
      "model_module_version": "1.2.0",
      "model_name": "LayoutModel",
      "state": {}
     },
     "df958c906a3745ef865adf6f572c10a2": {
      "model_module": "@jupyter-widgets/controls",
      "model_module_version": "1.5.0",
      "model_name": "DescriptionStyleModel",
      "state": {
       "description_width": ""
      }
     },
     "e80c5d951e9e4a7c8aa9770f312b01ca": {
      "model_module": "@jupyter-widgets/base",
      "model_module_version": "1.2.0",
      "model_name": "LayoutModel",
      "state": {
       "grid_area": "right",
       "padding": "0px 0px 0px 0px",
       "width": "70px"
      }
     },
     "f1d93ffbf738421091b74ddd7caa870c": {
      "model_module": "@jupyter-widgets/base",
      "model_module_version": "1.2.0",
      "model_name": "LayoutModel",
      "state": {
       "width": "190px"
      }
     }
    },
    "version_major": 2,
    "version_minor": 0
   }
  }
 },
 "nbformat": 4,
 "nbformat_minor": 5
}
