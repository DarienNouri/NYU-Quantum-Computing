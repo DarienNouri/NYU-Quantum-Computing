{
 "cells": [
  {
   "cell_type": "code",
   "execution_count": 12,
   "metadata": {},
   "outputs": [
    {
     "name": "stdout",
     "output_type": "stream",
     "text": [
      "rho_psi:\n"
     ]
    },
    {
     "data": {
      "text/latex": [
       "$\\displaystyle \\left[\\begin{matrix}0.25 & 0.25 & 0.25 & -0.25\\\\0.25 & 0.25 & 0.25 & -0.25\\\\0.25 & 0.25 & 0.25 & -0.25\\\\-0.25 & -0.25 & -0.25 & 0.25\\end{matrix}\\right]$"
      ],
      "text/plain": [
       "Matrix([\n",
       "[ 0.25,  0.25,  0.25, -0.25],\n",
       "[ 0.25,  0.25,  0.25, -0.25],\n",
       "[ 0.25,  0.25,  0.25, -0.25],\n",
       "[-0.25, -0.25, -0.25,  0.25]])"
      ]
     },
     "metadata": {},
     "output_type": "display_data"
    },
    {
     "name": "stdout",
     "output_type": "stream",
     "text": [
      "rho_A:\n"
     ]
    },
    {
     "data": {
      "text/latex": [
       "$\\displaystyle \\left[\\begin{matrix}1.0 & 1.0\\\\1.0 & 1.0\\end{matrix}\\right]$"
      ],
      "text/plain": [
       "Matrix([\n",
       "[1.0, 1.0],\n",
       "[1.0, 1.0]])"
      ]
     },
     "metadata": {},
     "output_type": "display_data"
    },
    {
     "name": "stdout",
     "output_type": "stream",
     "text": [
      "rho_B:\n"
     ]
    },
    {
     "data": {
      "text/latex": [
       "$\\displaystyle \\left[\\begin{matrix}0.5 & 0\\\\0 & 0.5\\end{matrix}\\right]$"
      ],
      "text/plain": [
       "Matrix([\n",
       "[0.5,   0],\n",
       "[  0, 0.5]])"
      ]
     },
     "metadata": {},
     "output_type": "display_data"
    },
    {
     "name": "stdout",
     "output_type": "stream",
     "text": [
      "eigenvalues:\n"
     ]
    },
    {
     "data": {
      "text/latex": [
       "$\\displaystyle \\left[\\begin{matrix}2.0\\\\0\\end{matrix}\\right]$"
      ],
      "text/plain": [
       "Matrix([\n",
       "[2.0],\n",
       "[  0]])"
      ]
     },
     "metadata": {},
     "output_type": "display_data"
    },
    {
     "name": "stdout",
     "output_type": "stream",
     "text": [
      "\n",
      "schmidt_coefficients:\n"
     ]
    },
    {
     "data": {
      "text/latex": [
       "$\\displaystyle \\left[\\begin{matrix}1.4142135623731\\\\0\\end{matrix}\\right]$"
      ],
      "text/plain": [
       "Matrix([\n",
       "[1.4142135623731],\n",
       "[              0]])"
      ]
     },
     "metadata": {},
     "output_type": "display_data"
    },
    {
     "name": "stdout",
     "output_type": "stream",
     "text": [
      "rho_A:[[1. 1.]\n",
      " [1. 1.]]\n",
      "rho_B: [[0.5 0. ]\n",
      " [0.  0.5]]\n"
     ]
    }
   ],
   "source": [
    "import numpy as np\n",
    "from sympy import Matrix\n",
    "from pprint import pprint\n",
    "import warnings\n",
    "warnings.filterwarnings(\"ignore\")\n",
    "\n",
    "# Define the state matrix of |psi> in computational basis\n",
    "psi = np.array([[1, 1, 1, -1]]) / 2  # Row vector for state |psi>\n",
    "\n",
    "# Calculate the density matrix of the state |psi>\n",
    "rho_psi = np.outer(psi, psi.conj())  # |psi><psi|\n",
    "\n",
    "# Define the computational basis for subsystem B to trace out\n",
    "I = np.eye(2)  # Identity matrix for 2x2, representing the basis\n",
    "\n",
    "# Calculate the reduced density matrix for subsystem A by tracing out B\n",
    "rho_A = np.zeros((2, 2))\n",
    "for i in range(2):\n",
    "    rho_A += np.dot(np.dot(psi[:, i*2:(i+1)*2], I), psi[:, i*2:(i+1)*2].T.conj())\n",
    "\n",
    "\n",
    "# Calculate the reduced density matrix for subsystem B by tracing out A\n",
    "rho_B = np.zeros((2, 2))\n",
    "for i in range(2):\n",
    "    rho_B += np.dot(np.dot(I, psi[:, i*2:(i+1)*2].T.conj()), psi[:, i*2:(i+1)*2])\n",
    "\n",
    "\n",
    "print(\"rho_psi:\")\n",
    "display(Matrix(rho_psi))\n",
    "\n",
    "print(\"rho_A:\")\n",
    "display(Matrix(rho_A))\n",
    "\n",
    "print(\"rho_B:\")\n",
    "display(Matrix(rho_B))\n",
    "\n",
    "\n",
    "# Calculate the eigenvalues of rho_A to determine the Schmidt coefficients\n",
    "eigenvalues, _ = np.linalg.eig(rho_A)\n",
    "schmidt_coefficients = np.sqrt(eigenvalues)\n",
    "\n",
    "\n",
    "print(\"eigenvalues:\")\n",
    "display(Matrix(eigenvalues))\n",
    "print()\n",
    "\n",
    "print(\"schmidt_coefficients:\")\n",
    "display(Matrix(schmidt_coefficients))\n",
    "\n",
    "print(f\"rho_A:{rho_A}\")\n",
    "print(f\"rho_B: {rho_B}\")\n",
    "\n"
   ]
  },
  {
   "cell_type": "code",
   "execution_count": 13,
   "metadata": {},
   "outputs": [],
   "source": [
    "import pandas as pd\n",
    "import qutip as qt\n",
    "import numpy as np\n"
   ]
  },
  {
   "cell_type": "code",
   "execution_count": 14,
   "metadata": {},
   "outputs": [
    {
     "name": "stdout",
     "output_type": "stream",
     "text": [
      "State i:\n",
      " Quantum object: dims = [[2, 2], [1, 1]], shape = (4, 1), type = ket\n",
      "Qobj data =\n",
      "[[0.5]\n",
      " [0.5]\n",
      " [0.5]\n",
      " [0.5]]\n",
      "State ii:\n",
      " Quantum object: dims = [[2, 2], [1, 1]], shape = (4, 1), type = ket\n",
      "Qobj data =\n",
      "[[ 0.5]\n",
      " [ 0.5]\n",
      " [ 0.5]\n",
      " [-0.5]]\n",
      "State iii:\n",
      " Quantum object: dims = [[2, 2], [1, 1]], shape = (4, 1), type = ket\n",
      "Qobj data =\n",
      "[[ 0.5+0.j ]\n",
      " [ 0. +0.5j]\n",
      " [ 0. +0.5j]\n",
      " [-0.5+0.j ]]\n",
      "Density Matrix of psi_i:\n",
      " Quantum object: dims = [[2, 2], [2, 2]], shape = (4, 4), type = oper, isherm = True\n",
      "Qobj data =\n",
      "[[0.25 0.25 0.25 0.25]\n",
      " [0.25 0.25 0.25 0.25]\n",
      " [0.25 0.25 0.25 0.25]\n",
      " [0.25 0.25 0.25 0.25]]\n",
      "Density Matrix of psi_ii:\n",
      " Quantum object: dims = [[2, 2], [2, 2]], shape = (4, 4), type = oper, isherm = True\n",
      "Qobj data =\n",
      "[[ 0.25  0.25  0.25 -0.25]\n",
      " [ 0.25  0.25  0.25 -0.25]\n",
      " [ 0.25  0.25  0.25 -0.25]\n",
      " [-0.25 -0.25 -0.25  0.25]]\n",
      "Density Matrix of psi_iii:\n",
      " Quantum object: dims = [[2, 2], [2, 2]], shape = (4, 4), type = oper, isherm = True\n",
      "Qobj data =\n",
      "[[ 0.25+0.j    0.  -0.25j  0.  -0.25j -0.25+0.j  ]\n",
      " [ 0.  +0.25j  0.25+0.j    0.25+0.j    0.  -0.25j]\n",
      " [ 0.  +0.25j  0.25+0.j    0.25+0.j    0.  -0.25j]\n",
      " [-0.25+0.j    0.  +0.25j  0.  +0.25j  0.25+0.j  ]]\n",
      "Reduced Density Matrix of Subsystem A for psi_i:\n",
      " Quantum object: dims = [[2], [2]], shape = (2, 2), type = oper, isherm = True\n",
      "Qobj data =\n",
      "[[0.5 0.5]\n",
      " [0.5 0.5]]\n",
      "Reduced Density Matrix of Subsystem A for psi_ii:\n",
      " Quantum object: dims = [[2], [2]], shape = (2, 2), type = oper, isherm = True\n",
      "Qobj data =\n",
      "[[0.5 0. ]\n",
      " [0.  0.5]]\n",
      "Von Neumann Entropy: -0.0\n",
      "Negativity: -1.1102230246251565e-16\n",
      "Concurrence: 0\n"
     ]
    }
   ],
   "source": [
    "import qutip as qt\n",
    "import numpy as np\n",
    "\n",
    "# Basis states\n",
    "q0 = qt.basis(2, 0)  # |0>\n",
    "q1 = qt.basis(2, 1)  # |1>\n",
    "\n",
    "# Constructing the composite basis states\n",
    "psi00 = qt.tensor(q0, q0)  # |00>\n",
    "psi01 = qt.tensor(q0, q1)  # |01>\n",
    "psi10 = qt.tensor(q1, q0)  # |10>\n",
    "psi11 = qt.tensor(q1, q1)  # |11>\n",
    "\n",
    "# i. 1/2 (|00⟩ + |01⟩ + |10⟩ + |11⟩)\n",
    "psi_i = (psi00 + psi01 + psi10 + psi11) / 2\n",
    "\n",
    "# ii. 1/2 (|00⟩ + |01⟩ + |10⟩ - |11⟩)\n",
    "psi_ii = (psi00 + psi01 + psi10 - psi11) / 2\n",
    "\n",
    "# iii. 1/2 (|00⟩ + i|01⟩ + i|10⟩ - |11⟩)\n",
    "psi_iii = (psi00 + 1j*psi01 + 1j*psi10 - psi11) / 2\n",
    "\n",
    "# Normalize the states (if necessary)\n",
    "psi_i = psi_i.unit()\n",
    "psi_ii = psi_ii.unit()\n",
    "psi_iii = psi_iii.unit()\n",
    "\n",
    "# Output the states\n",
    "print(\"State i:\\n\", psi_i)\n",
    "print(\"State ii:\\n\", psi_ii)\n",
    "print(\"State iii:\\n\", psi_iii)\n",
    "\n",
    "\n",
    "# Density matrices\n",
    "rho_i = psi_i * psi_i.dag()\n",
    "rho_ii = psi_ii * psi_ii.dag()\n",
    "rho_iii = psi_iii * psi_iii.dag()\n",
    "\n",
    "print(\"Density Matrix of psi_i:\\n\", rho_i)\n",
    "print(\"Density Matrix of psi_ii:\\n\", rho_ii)\n",
    "print(\"Density Matrix of psi_iii:\\n\", rho_iii)\n",
    "\n",
    "# Performing partial trace on rho_i to trace out subsystem B\n",
    "rdm_A_i = qt.ptrace(rho_i, 0)  # Keeping only subsystem A\n",
    "rdm_B_i = qt.ptrace(rho_i, 1)  # Keeping only subsystem B\n",
    "rdm_A_ii = qt.ptrace(rho_ii, 0)  # Keeping only subsystem A\n",
    "rdm_B_ii = qt.ptrace(rho_ii, 1)  # Keeping only subsystem B\n",
    "rdm_A_iii = qt.ptrace(rho_iii,0)  # Keeping only subsystem B\n",
    "rdm_B_iii = qt.ptrace(rho_iii, 1)  # Keeping only subsystem B\n",
    "\n",
    "print(\"Reduced Density Matrix of Subsystem A for psi_i:\\n\", rdm_A_i)\n",
    "# print(\"Reduced Density Matrix of Subsystem B for psi_i:\\n\", rdm_B_i)\n",
    "# Performing partial trace on rho_i to trace out subsystem B\n",
    "\n",
    "print(\"Reduced Density Matrix of Subsystem A for psi_ii:\\n\", rdm_A_ii)\n",
    "# print(\"Reduced Density Matrix of Subsystem B for psi_ii:\\n\", rdm_B_ii)\n",
    "\n",
    "# Von Neumann Entropy\n",
    "S_vN = qt.entropy_vn(rdm_A_iii, base=2)\n",
    "print(\"Von Neumann Entropy:\", S_vN)\n",
    "\n",
    "# Negativity\n",
    "negativity = qt.negativity(rdm_A_iii, [0, 1],)\n",
    "print(\"Negativity:\", negativity)\n",
    "\n",
    "\n",
    "concurrence = qt.concurrence(rho_iii)\n",
    "print(\"Concurrence:\", concurrence)\n"
   ]
  },
  {
   "cell_type": "code",
   "execution_count": 15,
   "metadata": {},
   "outputs": [
    {
     "data": {
      "text/latex": [
       "$$\\frac{1}{2} |00\\rangle+\\frac{1}{2} |01\\rangle+\\frac{1}{2} |10\\rangle+\\frac{1}{2} |11\\rangle$$"
      ],
      "text/plain": [
       "<IPython.core.display.Latex object>"
      ]
     },
     "metadata": {},
     "output_type": "display_data"
    },
    {
     "data": {
      "text/latex": [
       "Quantum object: dims = [[2, 2], [1, 1]], shape = (4, 1), type = ket $ \\\\ \\left(\\begin{matrix}0.500\\\\0.500\\\\0.500\\\\0.500\\\\\\end{matrix}\\right)$"
      ],
      "text/plain": [
       "Quantum object: dims = [[2, 2], [1, 1]], shape = (4, 1), type = ket\n",
       "Qobj data =\n",
       "[[0.5]\n",
       " [0.5]\n",
       " [0.5]\n",
       " [0.5]]"
      ]
     },
     "metadata": {},
     "output_type": "display_data"
    },
    {
     "name": "stdout",
     "output_type": "stream",
     "text": [
      "Density Matrix of psi:\n",
      "\n"
     ]
    },
    {
     "data": {
      "text/latex": [
       "$\\displaystyle \\left[\\begin{matrix}0.25 & 0.25 & 0.25 & 0.25\\\\0.25 & 0.25 & 0.25 & 0.25\\\\0.25 & 0.25 & 0.25 & 0.25\\\\0.25 & 0.25 & 0.25 & 0.25\\end{matrix}\\right]$"
      ],
      "text/plain": [
       "Matrix([\n",
       "[0.25, 0.25, 0.25, 0.25],\n",
       "[0.25, 0.25, 0.25, 0.25],\n",
       "[0.25, 0.25, 0.25, 0.25],\n",
       "[0.25, 0.25, 0.25, 0.25]])"
      ]
     },
     "metadata": {},
     "output_type": "display_data"
    },
    {
     "name": "stdout",
     "output_type": "stream",
     "text": [
      "Reduced Density Matrix of Subsystem A for psi:\n",
      "\n"
     ]
    },
    {
     "data": {
      "text/latex": [
       "$\\displaystyle \\left[\\begin{matrix}0.5 & 0.5\\\\0.5 & 0.5\\end{matrix}\\right]$"
      ],
      "text/plain": [
       "Matrix([\n",
       "[0.5, 0.5],\n",
       "[0.5, 0.5]])"
      ]
     },
     "metadata": {},
     "output_type": "display_data"
    },
    {
     "name": "stdout",
     "output_type": "stream",
     "text": [
      "Reduced Density Matrix of Subsystem B for psi:\n",
      "\n"
     ]
    },
    {
     "data": {
      "text/latex": [
       "$\\displaystyle \\left[\\begin{matrix}0.5 & 0.5\\\\0.5 & 0.5\\end{matrix}\\right]$"
      ],
      "text/plain": [
       "Matrix([\n",
       "[0.5, 0.5],\n",
       "[0.5, 0.5]])"
      ]
     },
     "metadata": {},
     "output_type": "display_data"
    },
    {
     "name": "stdout",
     "output_type": "stream",
     "text": [
      "Eigenvalues: [1.0000000e+00+0.j 7.2203753e-33+0.j], Schmidt Coefficients: [1.00000000e+00+0.j 8.49727916e-17+0.j]\n",
      "Von Neumann Entropy: -0.0000\n",
      "Negativity: -1.11e-16\n",
      "Concurrence: 0.0000\n"
     ]
    }
   ],
   "source": [
    "from IPython.display import display\n",
    "from sympy import Matrix, pprint\n",
    "from qiskit.quantum_info import Statevector\n",
    "\n",
    "def calculate_metrics(psi):\n",
    "\n",
    "    statevector = Statevector(psi.data.toarray())\n",
    "    display(statevector.draw('latex'))\n",
    "    display(psi)\n",
    "\n",
    "    # Calculate density matrix\n",
    "    rho = psi * psi.dag()\n",
    "\n",
    "    # Print density matrix\n",
    "    print(\"Density Matrix of psi:\\n\")\n",
    "    display(Matrix(rho.full()))\n",
    "\n",
    "    # Perform partial trace to trace out subsystems\n",
    "    rdm_A = qt.ptrace(rho, 0)  # Keep only subsystem A\n",
    "    rdm_B = qt.ptrace(rho, 1)  # Keep only subsystem B\n",
    "\n",
    "    # Print reduced density matrices\n",
    "    print(\"Reduced Density Matrix of Subsystem A for psi:\\n\")\n",
    "    display(Matrix(rdm_A.full()))\n",
    "\n",
    "    print(\"Reduced Density Matrix of Subsystem B for psi:\\n\")\n",
    "    display(Matrix(rdm_B.full()))\n",
    "\n",
    "\n",
    "    # Calculate the eigenvalues\n",
    "    eigenvalues, _ = np.linalg.eig(rdm_A)\n",
    "    schmidt_coefficients = np.sqrt(eigenvalues)\n",
    "\n",
    "    # Print eigenvalues and Schmidt coefficients\n",
    "    print(f\"Eigenvalues: {eigenvalues}, Schmidt Coefficients: {schmidt_coefficients}\")\n",
    "\n",
    "    # Calculate Von Neumann Entropy\n",
    "    S_vN = qt.entropy_vn(rdm_A, base=2)\n",
    "\n",
    "    # Calculate Negativity\n",
    "    negativity = qt.negativity(rdm_A, [0, 1])\n",
    "\n",
    "    # Calculate Concurrence\n",
    "    concurrence = qt.concurrence(rho)\n",
    "\n",
    "\n",
    "    # Print metrics\n",
    "    print(f\"Von Neumann Entropy: {S_vN:.4f}\")\n",
    "    print(f\"Negativity: {format(negativity, '.2e')}\")\n",
    "    print(f\"Concurrence: {concurrence:.4f}\")\n",
    "\n",
    "    # Return metrics in a dictionary\n",
    "    return {\n",
    "        \"rho\": rho,\n",
    "        'rdm_A': rdm_A,\n",
    "        'rdm_B': rdm_B,\n",
    "        \"Von Neumann Entropy\": S_vN,\n",
    "            \"Negativity\": negativity,\n",
    "            \"Concurrence\": concurrence\n",
    "            }\n",
    "\n",
    "metrics = calculate_metrics(psi_i)\n",
    "# print(metrics)"
   ]
  },
  {
   "cell_type": "code",
   "execution_count": 16,
   "metadata": {},
   "outputs": [
    {
     "name": "stdout",
     "output_type": "stream",
     "text": [
      "dict_keys(['rho', 'rdm_A', 'rdm_B', 'Von Neumann Entropy', 'Negativity', 'Concurrence'])\n"
     ]
    },
    {
     "data": {
      "text/latex": [
       "$$\\frac{1}{2} |00\\rangle+\\frac{1}{2} |01\\rangle+\\frac{1}{2} |10\\rangle+\\frac{1}{2} |11\\rangle$$"
      ],
      "text/plain": [
       "<IPython.core.display.Latex object>"
      ]
     },
     "metadata": {},
     "output_type": "display_data"
    },
    {
     "data": {
      "text/latex": [
       "Quantum object: dims = [[2, 2], [1, 1]], shape = (4, 1), type = ket $ \\\\ \\left(\\begin{matrix}0.500\\\\0.500\\\\0.500\\\\0.500\\\\\\end{matrix}\\right)$"
      ],
      "text/plain": [
       "Quantum object: dims = [[2, 2], [1, 1]], shape = (4, 1), type = ket\n",
       "Qobj data =\n",
       "[[0.5]\n",
       " [0.5]\n",
       " [0.5]\n",
       " [0.5]]"
      ]
     },
     "metadata": {},
     "output_type": "display_data"
    },
    {
     "name": "stdout",
     "output_type": "stream",
     "text": [
      "Density Matrix of psi:\n",
      "\n"
     ]
    },
    {
     "data": {
      "text/latex": [
       "$\\displaystyle \\left[\\begin{matrix}0.25 & 0.25 & 0.25 & 0.25\\\\0.25 & 0.25 & 0.25 & 0.25\\\\0.25 & 0.25 & 0.25 & 0.25\\\\0.25 & 0.25 & 0.25 & 0.25\\end{matrix}\\right]$"
      ],
      "text/plain": [
       "Matrix([\n",
       "[0.25, 0.25, 0.25, 0.25],\n",
       "[0.25, 0.25, 0.25, 0.25],\n",
       "[0.25, 0.25, 0.25, 0.25],\n",
       "[0.25, 0.25, 0.25, 0.25]])"
      ]
     },
     "metadata": {},
     "output_type": "display_data"
    },
    {
     "name": "stdout",
     "output_type": "stream",
     "text": [
      "Reduced Density Matrix of Subsystem A for psi:\n",
      "\n"
     ]
    },
    {
     "data": {
      "text/latex": [
       "$\\displaystyle \\left[\\begin{matrix}0.5 & 0.5\\\\0.5 & 0.5\\end{matrix}\\right]$"
      ],
      "text/plain": [
       "Matrix([\n",
       "[0.5, 0.5],\n",
       "[0.5, 0.5]])"
      ]
     },
     "metadata": {},
     "output_type": "display_data"
    },
    {
     "name": "stdout",
     "output_type": "stream",
     "text": [
      "Reduced Density Matrix of Subsystem B for psi:\n",
      "\n"
     ]
    },
    {
     "data": {
      "text/latex": [
       "$\\displaystyle \\left[\\begin{matrix}0.5 & 0.5\\\\0.5 & 0.5\\end{matrix}\\right]$"
      ],
      "text/plain": [
       "Matrix([\n",
       "[0.5, 0.5],\n",
       "[0.5, 0.5]])"
      ]
     },
     "metadata": {},
     "output_type": "display_data"
    },
    {
     "name": "stdout",
     "output_type": "stream",
     "text": [
      "Eigenvalues: [1.0000000e+00+0.j 7.2203753e-33+0.j], Schmidt Coefficients: [1.00000000e+00+0.j 8.49727916e-17+0.j]\n",
      "Von Neumann Entropy: -0.0000\n",
      "Negativity: -1.11e-16\n",
      "Concurrence: 0.0000\n"
     ]
    },
    {
     "data": {
      "text/latex": [
       "$\\displaystyle \\left[\\begin{matrix}-1.0\\\\-7.22037530394613 \\cdot 10^{-33}\\end{matrix}\\right]$"
      ],
      "text/plain": [
       "Matrix([\n",
       "[                 -1.0],\n",
       "[-7.22037530394613e-33]])"
      ]
     },
     "metadata": {},
     "output_type": "display_data"
    },
    {
     "name": "stdout",
     "output_type": "stream",
     "text": [
      "[-1.0000000e+00-0.j -7.2203753e-33-0.j]\n",
      "Eigen Sum: -1.0\n",
      "Negativity Custom: -1.0, Negativity QuTiP: -1.1102230246251565e-16\n"
     ]
    }
   ],
   "source": [
    "print(metrics.keys())\n",
    "metrics = calculate_metrics(psi_i)\n",
    "\n",
    "rdm_A = metrics['rdm_A']\n",
    "\n",
    "eigenvalues, _ = np.linalg.eig(rdm_A)\n",
    "sorted_eigenvalues = np.negative(eigenvalues) # Sort eigenvalues in decreasing order\n",
    "\n",
    "schmidt_coefficients = (sorted_eigenvalues)\n",
    "display(Matrix(sorted_eigenvalues))\n",
    "\n",
    "# Calc negativity\n",
    "\n",
    "print(sorted_eigenvalues)\n",
    "eigen_sum = (sorted_eigenvalues).sum()\n",
    "print(f\"Eigen Sum: {eigen_sum.astype(float)}\")\n",
    "# negativity = np.maximum(0, 2 * eigen_sum)\n",
    "negativity = eigen_sum\n",
    "print(f\"Negativity Custom: {format(negativity.astype(float))}, Negativity QuTiP: {metrics['Negativity']}\")"
   ]
  },
  {
   "cell_type": "code",
   "execution_count": 17,
   "metadata": {},
   "outputs": [],
   "source": [
    "eigen_diff = [sorted_eigenvalues[i] - sorted_eigenvalues[i+1] for i in range(len(sorted_eigenvalues)-1)]"
   ]
  },
  {
   "cell_type": "code",
   "execution_count": 18,
   "metadata": {},
   "outputs": [
    {
     "name": "stdout",
     "output_type": "stream",
     "text": [
      "{\"key\":\"f9d41c6f-2a24-4f18-8283-bf1129a48759\",\"signature_scheme\":\"hmac-sha256\",\"transport\":\"tcp\",\"ip\":\"127.0.0.1\",\"hb_port\":9005,\"control_port\":9006,\"shell_port\":9007,\"stdin_port\":9013,\"iopub_port\":9014,\"kernel_name\":\"pythonjvsc74a57bd0ed8d7b49b05be800232621fba4e36505cdb7e1d202d0289295f6e35d59c3092a\"}\n",
      "\n",
      "Paste the above JSON into a file, and connect with:\n",
      "    $> jupyter <app> --existing <file>\n",
      "or, if you are local, you can connect with just:\n",
      "    $> jupyter <app> --existing kernel-v2-45158J4Khd2CpxGUu.json\n",
      "or even just:\n",
      "    $> jupyter <app> --existing\n",
      "if this is the most recent Jupyter kernel you have started.\n"
     ]
    }
   ],
   "source": [
    "%connect_info"
   ]
  },
  {
   "cell_type": "code",
   "execution_count": 21,
   "metadata": {},
   "outputs": [
    {
     "data": {
      "text/latex": [
       "$$\\frac{1}{2} |00\\rangle+\\frac{1}{2} |01\\rangle+\\frac{1}{2} |10\\rangle+\\frac{1}{2} |11\\rangle$$"
      ],
      "text/plain": [
       "<IPython.core.display.Latex object>"
      ]
     },
     "metadata": {},
     "output_type": "display_data"
    },
    {
     "data": {
      "text/latex": [
       "Quantum object: dims = [[2, 2], [1, 1]], shape = (4, 1), type = ket $ \\\\ \\left(\\begin{matrix}0.500\\\\0.500\\\\0.500\\\\0.500\\\\\\end{matrix}\\right)$"
      ],
      "text/plain": [
       "Quantum object: dims = [[2, 2], [1, 1]], shape = (4, 1), type = ket\n",
       "Qobj data =\n",
       "[[0.5]\n",
       " [0.5]\n",
       " [0.5]\n",
       " [0.5]]"
      ]
     },
     "metadata": {},
     "output_type": "display_data"
    },
    {
     "name": "stdout",
     "output_type": "stream",
     "text": [
      "Density Matrix of psi:\n",
      "\n"
     ]
    },
    {
     "data": {
      "text/latex": [
       "$\\displaystyle \\left[\\begin{matrix}0.25 & 0.25 & 0.25 & 0.25\\\\0.25 & 0.25 & 0.25 & 0.25\\\\0.25 & 0.25 & 0.25 & 0.25\\\\0.25 & 0.25 & 0.25 & 0.25\\end{matrix}\\right]$"
      ],
      "text/plain": [
       "Matrix([\n",
       "[0.25, 0.25, 0.25, 0.25],\n",
       "[0.25, 0.25, 0.25, 0.25],\n",
       "[0.25, 0.25, 0.25, 0.25],\n",
       "[0.25, 0.25, 0.25, 0.25]])"
      ]
     },
     "metadata": {},
     "output_type": "display_data"
    },
    {
     "name": "stdout",
     "output_type": "stream",
     "text": [
      "Reduced Density Matrix of Subsystem A for psi:\n",
      "\n"
     ]
    },
    {
     "data": {
      "text/latex": [
       "$\\displaystyle \\left[\\begin{matrix}0.5 & 0.5\\\\0.5 & 0.5\\end{matrix}\\right]$"
      ],
      "text/plain": [
       "Matrix([\n",
       "[0.5, 0.5],\n",
       "[0.5, 0.5]])"
      ]
     },
     "metadata": {},
     "output_type": "display_data"
    },
    {
     "name": "stdout",
     "output_type": "stream",
     "text": [
      "Reduced Density Matrix of Subsystem B for psi:\n",
      "\n"
     ]
    },
    {
     "data": {
      "text/latex": [
       "$\\displaystyle \\left[\\begin{matrix}0.5 & 0.5\\\\0.5 & 0.5\\end{matrix}\\right]$"
      ],
      "text/plain": [
       "Matrix([\n",
       "[0.5, 0.5],\n",
       "[0.5, 0.5]])"
      ]
     },
     "metadata": {},
     "output_type": "display_data"
    },
    {
     "name": "stdout",
     "output_type": "stream",
     "text": [
      "Eigenvalues: [1.0000000e+00+0.j 7.2203753e-33+0.j], Schmidt Coefficients: [1.00000000e+00+0.j 8.49727916e-17+0.j]\n",
      "Von Neumann Entropy: -0.0000\n",
      "Negativity: -1.11e-16\n",
      "Concurrence: 0.0000\n"
     ]
    }
   ],
   "source": [
    "metrics = calculate_metrics(psi_i)"
   ]
  },
  {
   "cell_type": "code",
   "execution_count": 19,
   "metadata": {},
   "outputs": [
    {
     "data": {
      "text/latex": [
       "$$\\frac{1}{2} |00\\rangle+\\frac{1}{2} |01\\rangle+\\frac{1}{2} |10\\rangle- \\frac{1}{2} |11\\rangle$$"
      ],
      "text/plain": [
       "<IPython.core.display.Latex object>"
      ]
     },
     "metadata": {},
     "output_type": "display_data"
    },
    {
     "data": {
      "text/latex": [
       "Quantum object: dims = [[2, 2], [1, 1]], shape = (4, 1), type = ket $ \\\\ \\left(\\begin{matrix}0.500\\\\0.500\\\\0.500\\\\-0.500\\\\\\end{matrix}\\right)$"
      ],
      "text/plain": [
       "Quantum object: dims = [[2, 2], [1, 1]], shape = (4, 1), type = ket\n",
       "Qobj data =\n",
       "[[ 0.5]\n",
       " [ 0.5]\n",
       " [ 0.5]\n",
       " [-0.5]]"
      ]
     },
     "metadata": {},
     "output_type": "display_data"
    },
    {
     "name": "stdout",
     "output_type": "stream",
     "text": [
      "Density Matrix of psi:\n",
      "\n"
     ]
    },
    {
     "data": {
      "text/latex": [
       "$\\displaystyle \\left[\\begin{matrix}0.25 & 0.25 & 0.25 & -0.25\\\\0.25 & 0.25 & 0.25 & -0.25\\\\0.25 & 0.25 & 0.25 & -0.25\\\\-0.25 & -0.25 & -0.25 & 0.25\\end{matrix}\\right]$"
      ],
      "text/plain": [
       "Matrix([\n",
       "[ 0.25,  0.25,  0.25, -0.25],\n",
       "[ 0.25,  0.25,  0.25, -0.25],\n",
       "[ 0.25,  0.25,  0.25, -0.25],\n",
       "[-0.25, -0.25, -0.25,  0.25]])"
      ]
     },
     "metadata": {},
     "output_type": "display_data"
    },
    {
     "name": "stdout",
     "output_type": "stream",
     "text": [
      "Reduced Density Matrix of Subsystem A for psi:\n",
      "\n"
     ]
    },
    {
     "data": {
      "text/latex": [
       "$\\displaystyle \\left[\\begin{matrix}0.5 & 0\\\\0 & 0.5\\end{matrix}\\right]$"
      ],
      "text/plain": [
       "Matrix([\n",
       "[0.5,   0],\n",
       "[  0, 0.5]])"
      ]
     },
     "metadata": {},
     "output_type": "display_data"
    },
    {
     "name": "stdout",
     "output_type": "stream",
     "text": [
      "Reduced Density Matrix of Subsystem B for psi:\n",
      "\n"
     ]
    },
    {
     "data": {
      "text/latex": [
       "$\\displaystyle \\left[\\begin{matrix}0.5 & 0\\\\0 & 0.5\\end{matrix}\\right]$"
      ],
      "text/plain": [
       "Matrix([\n",
       "[0.5,   0],\n",
       "[  0, 0.5]])"
      ]
     },
     "metadata": {},
     "output_type": "display_data"
    },
    {
     "name": "stdout",
     "output_type": "stream",
     "text": [
      "Eigenvalues: [0.5+0.j 0.5+0.j], Schmidt Coefficients: [0.70710678+0.j 0.70710678+0.j]\n",
      "Von Neumann Entropy: 1.0000\n",
      "Negativity: 0.00e+00\n",
      "Concurrence: 1.0000\n"
     ]
    }
   ],
   "source": [
    "metrics = calculate_metrics(psi_ii)"
   ]
  },
  {
   "cell_type": "markdown",
   "metadata": {},
   "source": [
    "### Psi iii"
   ]
  },
  {
   "cell_type": "code",
   "execution_count": 20,
   "metadata": {},
   "outputs": [
    {
     "data": {
      "text/latex": [
       "$$\\frac{1}{2} |00\\rangle+\\frac{i}{2} |01\\rangle+\\frac{i}{2} |10\\rangle- \\frac{1}{2} |11\\rangle$$"
      ],
      "text/plain": [
       "<IPython.core.display.Latex object>"
      ]
     },
     "metadata": {},
     "output_type": "display_data"
    },
    {
     "data": {
      "text/latex": [
       "Quantum object: dims = [[2, 2], [1, 1]], shape = (4, 1), type = ket $ \\\\ \\left(\\begin{matrix}0.500\\\\0.500j\\\\0.500j\\\\-0.500\\\\\\end{matrix}\\right)$"
      ],
      "text/plain": [
       "Quantum object: dims = [[2, 2], [1, 1]], shape = (4, 1), type = ket\n",
       "Qobj data =\n",
       "[[ 0.5+0.j ]\n",
       " [ 0. +0.5j]\n",
       " [ 0. +0.5j]\n",
       " [-0.5+0.j ]]"
      ]
     },
     "metadata": {},
     "output_type": "display_data"
    },
    {
     "name": "stdout",
     "output_type": "stream",
     "text": [
      "Density Matrix of psi:\n",
      "\n"
     ]
    },
    {
     "data": {
      "text/latex": [
       "$\\displaystyle \\left[\\begin{matrix}0.25 & - 0.25 i & - 0.25 i & -0.25\\\\0.25 i & 0.25 & 0.25 & - 0.25 i\\\\0.25 i & 0.25 & 0.25 & - 0.25 i\\\\-0.25 & 0.25 i & 0.25 i & 0.25\\end{matrix}\\right]$"
      ],
      "text/plain": [
       "Matrix([\n",
       "[  0.25, -0.25*I, -0.25*I,   -0.25],\n",
       "[0.25*I,    0.25,    0.25, -0.25*I],\n",
       "[0.25*I,    0.25,    0.25, -0.25*I],\n",
       "[ -0.25,  0.25*I,  0.25*I,    0.25]])"
      ]
     },
     "metadata": {},
     "output_type": "display_data"
    },
    {
     "name": "stdout",
     "output_type": "stream",
     "text": [
      "Reduced Density Matrix of Subsystem A for psi:\n",
      "\n"
     ]
    },
    {
     "data": {
      "text/latex": [
       "$\\displaystyle \\left[\\begin{matrix}0.5 & - 0.5 i\\\\0.5 i & 0.5\\end{matrix}\\right]$"
      ],
      "text/plain": [
       "Matrix([\n",
       "[  0.5, -0.5*I],\n",
       "[0.5*I,    0.5]])"
      ]
     },
     "metadata": {},
     "output_type": "display_data"
    },
    {
     "name": "stdout",
     "output_type": "stream",
     "text": [
      "Reduced Density Matrix of Subsystem B for psi:\n",
      "\n"
     ]
    },
    {
     "data": {
      "text/latex": [
       "$\\displaystyle \\left[\\begin{matrix}0.5 & - 0.5 i\\\\0.5 i & 0.5\\end{matrix}\\right]$"
      ],
      "text/plain": [
       "Matrix([\n",
       "[  0.5, -0.5*I],\n",
       "[0.5*I,    0.5]])"
      ]
     },
     "metadata": {},
     "output_type": "display_data"
    },
    {
     "name": "stdout",
     "output_type": "stream",
     "text": [
      "Eigenvalues: [1.0000000e+00+0.j 7.2203753e-33+0.j], Schmidt Coefficients: [1.00000000e+00+0.j 8.49727916e-17+0.j]\n",
      "Von Neumann Entropy: -0.0000\n",
      "Negativity: -1.11e-16\n",
      "Concurrence: 0.0000\n"
     ]
    }
   ],
   "source": [
    "metrics = calculate_metrics(psi_iii)"
   ]
  },
  {
   "cell_type": "code",
   "execution_count": 23,
   "metadata": {},
   "outputs": [
    {
     "name": "stdout",
     "output_type": "stream",
     "text": [
      "Quantum object: dims = [[2, 2], [1, 1]], shape = (4, 1), type = ket\n",
      "Qobj data =\n",
      "[[ 0.5+0.j ]\n",
      " [ 0. +0.5j]\n",
      " [ 0. +0.5j]\n",
      " [-0.5+0.j ]]\n"
     ]
    },
    {
     "data": {
      "text/latex": [
       "$$\\frac{1}{2} |00\\rangle+\\frac{i}{2} |01\\rangle+\\frac{i}{2} |10\\rangle- \\frac{1}{2} |11\\rangle$$"
      ],
      "text/plain": [
       "<IPython.core.display.Latex object>"
      ]
     },
     "metadata": {},
     "output_type": "display_data"
    },
    {
     "data": {
      "text/latex": [
       "Quantum object: dims = [[2, 2], [1, 1]], shape = (4, 1), type = ket $ \\\\ \\left(\\begin{matrix}0.500\\\\0.500j\\\\0.500j\\\\-0.500\\\\\\end{matrix}\\right)$"
      ],
      "text/plain": [
       "Quantum object: dims = [[2, 2], [1, 1]], shape = (4, 1), type = ket\n",
       "Qobj data =\n",
       "[[ 0.5+0.j ]\n",
       " [ 0. +0.5j]\n",
       " [ 0. +0.5j]\n",
       " [-0.5+0.j ]]"
      ]
     },
     "metadata": {},
     "output_type": "display_data"
    },
    {
     "name": "stdout",
     "output_type": "stream",
     "text": [
      "Density Matrix of psi:\n",
      "\n"
     ]
    },
    {
     "data": {
      "text/latex": [
       "$\\displaystyle \\left[\\begin{matrix}0.25 & - 0.25 i & - 0.25 i & -0.25\\\\0.25 i & 0.25 & 0.25 & - 0.25 i\\\\0.25 i & 0.25 & 0.25 & - 0.25 i\\\\-0.25 & 0.25 i & 0.25 i & 0.25\\end{matrix}\\right]$"
      ],
      "text/plain": [
       "Matrix([\n",
       "[  0.25, -0.25*I, -0.25*I,   -0.25],\n",
       "[0.25*I,    0.25,    0.25, -0.25*I],\n",
       "[0.25*I,    0.25,    0.25, -0.25*I],\n",
       "[ -0.25,  0.25*I,  0.25*I,    0.25]])"
      ]
     },
     "metadata": {},
     "output_type": "display_data"
    },
    {
     "name": "stdout",
     "output_type": "stream",
     "text": [
      "Reduced Density Matrix of Subsystem A for psi:\n",
      "\n"
     ]
    },
    {
     "data": {
      "text/latex": [
       "$\\displaystyle \\left[\\begin{matrix}0.5 & - 0.5 i\\\\0.5 i & 0.5\\end{matrix}\\right]$"
      ],
      "text/plain": [
       "Matrix([\n",
       "[  0.5, -0.5*I],\n",
       "[0.5*I,    0.5]])"
      ]
     },
     "metadata": {},
     "output_type": "display_data"
    },
    {
     "name": "stdout",
     "output_type": "stream",
     "text": [
      "Reduced Density Matrix of Subsystem B for psi:\n",
      "\n"
     ]
    },
    {
     "data": {
      "text/latex": [
       "$\\displaystyle \\left[\\begin{matrix}0.5 & - 0.5 i\\\\0.5 i & 0.5\\end{matrix}\\right]$"
      ],
      "text/plain": [
       "Matrix([\n",
       "[  0.5, -0.5*I],\n",
       "[0.5*I,    0.5]])"
      ]
     },
     "metadata": {},
     "output_type": "display_data"
    },
    {
     "name": "stdout",
     "output_type": "stream",
     "text": [
      "Eigenvalues: [1.0000000e+00+0.j 7.2203753e-33+0.j], Schmidt Coefficients: [1.00000000e+00+0.j 8.49727916e-17+0.j]\n"
     ]
    }
   ],
   "source": [
    "psi = psi_iii\n",
    "print(psi)\n",
    "\n",
    "statevector = Statevector(psi.data.toarray())\n",
    "display(statevector.draw('latex'))\n",
    "display(psi)\n",
    "\n",
    "# Calculate density matrix\n",
    "rho = psi * psi.dag()\n",
    "\n",
    "# Print density matrix\n",
    "print(\"Density Matrix of psi:\\n\")\n",
    "display(Matrix(rho.full()))\n",
    "\n",
    "# Perform partial trace to trace out subsystems\n",
    "rdm_A = qt.ptrace(rho, 0)  # Keep only subsystem A\n",
    "rdm_B = qt.ptrace(rho, 1)  # Keep only subsystem B\n",
    "\n",
    "# Print reduced density matrices\n",
    "print(\"Reduced Density Matrix of Subsystem A for psi:\\n\")\n",
    "display(Matrix(rdm_A.full()))\n",
    "\n",
    "print(\"Reduced Density Matrix of Subsystem B for psi:\\n\")\n",
    "display(Matrix(rdm_B.full()))\n",
    "\n",
    "\n",
    "# Calculate the eigenvalues\n",
    "eigenvalues, _ = np.linalg.eig(rdm_A)\n",
    "schmidt_coefficients = np.sqrt(eigenvalues)\n",
    "\n",
    "# Print eigenvalues and Schmidt coefficients\n",
    "print(f\"Eigenvalues: {eigenvalues}, Schmidt Coefficients: {schmidt_coefficients}\")\n",
    "\n",
    "# Calculate Von Neumann Entropy\n",
    "S_vN = qt.entropy_vn(rdm_A, base=2)\n",
    "\n",
    "# Calculate Negativity\n",
    "negativity = qt.negativity(rdm_A, [0, 1])\n",
    "\n",
    "# Calculate Concurrence\n",
    "concurrence = qt.concurrence(rho)"
   ]
  },
  {
   "cell_type": "markdown",
   "metadata": {},
   "source": [
    "$$|ψ⟩AB = 1/√3 (|00⟩ + |01⟩ + |10⟩)$$"
   ]
  },
  {
   "cell_type": "code",
   "execution_count": 35,
   "metadata": {},
   "outputs": [
    {
     "data": {
      "text/latex": [
       "Quantum object: dims = [[2, 2], [1, 1]], shape = (4, 1), type = ket $ \\\\ \\left(\\begin{matrix}0.577\\\\0.577\\\\0.577\\\\0.0\\\\\\end{matrix}\\right)$"
      ],
      "text/plain": [
       "Quantum object: dims = [[2, 2], [1, 1]], shape = (4, 1), type = ket\n",
       "Qobj data =\n",
       "[[0.57735027]\n",
       " [0.57735027]\n",
       " [0.57735027]\n",
       " [0.        ]]"
      ]
     },
     "metadata": {},
     "output_type": "display_data"
    },
    {
     "data": {
      "text/latex": [
       "$$\\frac{\\sqrt{3}}{3} |00\\rangle+\\frac{\\sqrt{3}}{3} |01\\rangle+\\frac{\\sqrt{3}}{3} |10\\rangle$$"
      ],
      "text/plain": [
       "<IPython.core.display.Latex object>"
      ]
     },
     "metadata": {},
     "output_type": "display_data"
    },
    {
     "data": {
      "text/latex": [
       "$$\\frac{\\sqrt{3}}{3} |00\\rangle+\\frac{\\sqrt{3}}{3} |01\\rangle+\\frac{\\sqrt{3}}{3} |10\\rangle$$"
      ],
      "text/plain": [
       "<IPython.core.display.Latex object>"
      ]
     },
     "metadata": {},
     "output_type": "display_data"
    },
    {
     "data": {
      "text/latex": [
       "Quantum object: dims = [[2, 2], [1, 1]], shape = (4, 1), type = ket $ \\\\ \\left(\\begin{matrix}0.577\\\\0.577\\\\0.577\\\\0.0\\\\\\end{matrix}\\right)$"
      ],
      "text/plain": [
       "Quantum object: dims = [[2, 2], [1, 1]], shape = (4, 1), type = ket\n",
       "Qobj data =\n",
       "[[0.57735027]\n",
       " [0.57735027]\n",
       " [0.57735027]\n",
       " [0.        ]]"
      ]
     },
     "metadata": {},
     "output_type": "display_data"
    },
    {
     "name": "stdout",
     "output_type": "stream",
     "text": [
      "Density Matrix of psi:\n",
      "\n"
     ]
    },
    {
     "data": {
      "text/latex": [
       "$\\displaystyle \\left[\\begin{matrix}0.333333333333333 & 0.333333333333333 & 0.333333333333333 & 0\\\\0.333333333333333 & 0.333333333333333 & 0.333333333333333 & 0\\\\0.333333333333333 & 0.333333333333333 & 0.333333333333333 & 0\\\\0 & 0 & 0 & 0\\end{matrix}\\right]$"
      ],
      "text/plain": [
       "Matrix([\n",
       "[0.333333333333333, 0.333333333333333, 0.333333333333333, 0],\n",
       "[0.333333333333333, 0.333333333333333, 0.333333333333333, 0],\n",
       "[0.333333333333333, 0.333333333333333, 0.333333333333333, 0],\n",
       "[                0,                 0,                 0, 0]])"
      ]
     },
     "metadata": {},
     "output_type": "display_data"
    },
    {
     "name": "stdout",
     "output_type": "stream",
     "text": [
      "Reduced Density Matrix of Subsystem A for psi:\n",
      "\n"
     ]
    },
    {
     "data": {
      "text/latex": [
       "$\\displaystyle \\left[\\begin{matrix}0.666666666666667 & 0.333333333333333\\\\0.333333333333333 & 0.333333333333333\\end{matrix}\\right]$"
      ],
      "text/plain": [
       "Matrix([\n",
       "[0.666666666666667, 0.333333333333333],\n",
       "[0.333333333333333, 0.333333333333333]])"
      ]
     },
     "metadata": {},
     "output_type": "display_data"
    },
    {
     "name": "stdout",
     "output_type": "stream",
     "text": [
      "Reduced Density Matrix of Subsystem B for psi:\n",
      "\n"
     ]
    },
    {
     "data": {
      "text/latex": [
       "$\\displaystyle \\left[\\begin{matrix}0.666666666666667 & 0.333333333333333\\\\0.333333333333333 & 0.333333333333333\\end{matrix}\\right]$"
      ],
      "text/plain": [
       "Matrix([\n",
       "[0.666666666666667, 0.333333333333333],\n",
       "[0.333333333333333, 0.333333333333333]])"
      ]
     },
     "metadata": {},
     "output_type": "display_data"
    },
    {
     "name": "stdout",
     "output_type": "stream",
     "text": [
      "Eigenvalues: [0.872678+0.j 0.127322+0.j], Schmidt Coefficients: [0.93417236+0.j 0.35682209+0.j]\n",
      "Von Neumann Entropy: 0.5500\n",
      "Negativity: 1.11e-16\n",
      "Concurrence: 0.6667\n",
      "----------------------------------------------------------------------------------------------------\n",
      "schmidt and eigenvalues A\n"
     ]
    },
    {
     "data": {
      "text/latex": [
       "$\\displaystyle \\left[\\begin{matrix}0.934172358962716\\\\0.35682208977309\\end{matrix}\\right]$"
      ],
      "text/plain": [
       "Matrix([\n",
       "[0.934172358962716],\n",
       "[ 0.35682208977309]])"
      ]
     },
     "metadata": {},
     "output_type": "display_data"
    },
    {
     "data": {
      "text/latex": [
       "$\\displaystyle \\left[\\begin{matrix}0.872677996249965\\\\0.127322003750035\\end{matrix}\\right]$"
      ],
      "text/plain": [
       "Matrix([\n",
       "[0.872677996249965],\n",
       "[0.127322003750035]])"
      ]
     },
     "metadata": {},
     "output_type": "display_data"
    },
    {
     "name": "stdout",
     "output_type": "stream",
     "text": [
      "schmidt and eigenvalues B\n"
     ]
    },
    {
     "data": {
      "text/latex": [
       "$\\displaystyle \\left[\\begin{matrix}0.934172358962716\\\\0.35682208977309\\end{matrix}\\right]$"
      ],
      "text/plain": [
       "Matrix([\n",
       "[0.934172358962716],\n",
       "[ 0.35682208977309]])"
      ]
     },
     "metadata": {},
     "output_type": "display_data"
    },
    {
     "data": {
      "text/latex": [
       "$\\displaystyle \\left[\\begin{matrix}0.872677996249965\\\\0.127322003750035\\end{matrix}\\right]$"
      ],
      "text/plain": [
       "Matrix([\n",
       "[0.872677996249965],\n",
       "[0.127322003750035]])"
      ]
     },
     "metadata": {},
     "output_type": "display_data"
    }
   ],
   "source": [
    "# Basis states\n",
    "q0 = qt.basis(2, 0)  # |0>\n",
    "q1 = qt.basis(2, 1)  # |1>\n",
    "\n",
    "# Constructing the composite basis states\n",
    "psi00 = qt.tensor(q0, q0)  # |00>\n",
    "psi01 = qt.tensor(q0, q1)  # |01>\n",
    "psi10 = qt.tensor(q1, q0)  # |10>\n",
    "psi11 = qt.tensor(q1, q1)  # |11>\n",
    "\n",
    "# $|ψ⟩AB = 1/√3 (|00⟩ + |01⟩ + |10⟩)$\n",
    "\n",
    "psi = (psi00 + psi01 + psi10) / np.sqrt(3)\n",
    "\n",
    "display(psi)\n",
    "\n",
    "statevector = Statevector(psi.data.toarray())\n",
    "display(statevector.draw('latex'))\n",
    "\n",
    "\n",
    "\n",
    "# calc\n",
    "metrics = calculate_metrics(psi)\n",
    "rho, rdm_A, rdm_B = metrics['rho'], metrics['rdm_A'], metrics['rdm_B']\n",
    "\n",
    "print('-'*100)\n",
    "\n",
    "# Calculate the eigenvalues\n",
    "eigenvalues, _ = np.linalg.eig(rdm_A)\n",
    "schmidt_coefficients = np.sqrt(eigenvalues)\n",
    "print('schmidt and eigenvalues A')\n",
    "display(Matrix(schmidt_coefficients))\n",
    "display(Matrix(eigenvalues))\n",
    "\n",
    "eigenvalues, _ = np.linalg.eig(rdm_B)\n",
    "schmidt_coefficients = np.sqrt(eigenvalues)\n",
    "print('schmidt and eigenvalues B')\n",
    "display(Matrix(schmidt_coefficients))\n",
    "display(Matrix(eigenvalues))\n"
   ]
  },
  {
   "cell_type": "code",
   "execution_count": 39,
   "metadata": {},
   "outputs": [
    {
     "data": {
      "text/plain": [
       "0.7777777777777779"
      ]
     },
     "execution_count": 39,
     "metadata": {},
     "output_type": "execute_result"
    }
   ],
   "source": [
    "e0 = (3 + np.sqrt(5))/6\n",
    "e1 = (3 - np.sqrt(5))/6\n",
    "\n",
    "pho_a = e0**2 + e1**2\n",
    "pho_a"
   ]
  },
  {
   "cell_type": "code",
   "execution_count": 41,
   "metadata": {},
   "outputs": [
    {
     "data": {
      "text/plain": [
       "array([1.11351636, 0.52573111])"
      ]
     },
     "execution_count": 41,
     "metadata": {},
     "output_type": "execute_result"
    }
   ],
   "source": [
    "coe1 = 1/(np.sqrt((5 + np.sqrt(5))/2))\n",
    "coe2 = 1/(np.sqrt((5 - np.sqrt(5))/2))\n",
    "\n",
    "v1 = np.array([1+np.sqrt(5)/2, 1])\n",
    "v2 = np.array([1-np.sqrt(5)/2, 1])\n",
    "\n",
    "coe1 *v1"
   ]
  },
  {
   "cell_type": "code",
   "execution_count": 44,
   "metadata": {},
   "outputs": [
    {
     "data": {
      "text/plain": [
       "(array([2.11803399, 1.        ]),\n",
       " array([-0.11803399,  1.        ]),\n",
       " 0.5257311121191336,\n",
       " 0.8506508083520399)"
      ]
     },
     "execution_count": 44,
     "metadata": {},
     "output_type": "execute_result"
    }
   ],
   "source": [
    "v1, v2, coe1, coe2"
   ]
  },
  {
   "cell_type": "code",
   "execution_count": null,
   "metadata": {},
   "outputs": [],
   "source": []
  }
 ],
 "metadata": {
  "kernelspec": {
   "display_name": "qiskit-old",
   "language": "python",
   "name": "python3"
  },
  "language_info": {
   "codemirror_mode": {
    "name": "ipython",
    "version": 3
   },
   "file_extension": ".py",
   "mimetype": "text/x-python",
   "name": "python",
   "nbconvert_exporter": "python",
   "pygments_lexer": "ipython3",
   "version": "3.9.18"
  }
 },
 "nbformat": 4,
 "nbformat_minor": 2
}
